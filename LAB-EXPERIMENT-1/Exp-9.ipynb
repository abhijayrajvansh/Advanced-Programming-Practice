{
 "cells": [
  {
   "cell_type": "code",
   "execution_count": 12,
   "id": "82249112",
   "metadata": {},
   "outputs": [
    {
     "name": "stdout",
     "output_type": "stream",
     "text": [
      "Enter Month Name: april\n",
      "30\n"
     ]
    }
   ],
   "source": [
    "month = input(\"Enter Month Name: \")\n",
    "\n",
    "l1 = (\"january\", \"march\", \"may\", \"july\", \"august\", \"october\", \"december\")\n",
    "l2 = (\"april\", \"june\", \"september\", \"november\")\n",
    "\n",
    "if month == \"february\":\n",
    "    print(\"28 or 29\")\n",
    "elif month in l1:\n",
    "    print(31)\n",
    "elif month in l2:\n",
    "    print(30)\n",
    "else:\n",
    "    print(\"Enter a valid month name!\")"
   ]
  },
  {
   "cell_type": "code",
   "execution_count": null,
   "id": "c578877e",
   "metadata": {},
   "outputs": [],
   "source": []
  },
  {
   "cell_type": "raw",
   "id": "f99abb8a",
   "metadata": {},
   "source": []
  },
  {
   "cell_type": "markdown",
   "id": "75c47760",
   "metadata": {},
   "source": []
  },
  {
   "cell_type": "markdown",
   "id": "636dce39",
   "metadata": {},
   "source": []
  }
 ],
 "metadata": {
  "kernelspec": {
   "display_name": "Python 3 (ipykernel)",
   "language": "python",
   "name": "python3"
  },
  "language_info": {
   "codemirror_mode": {
    "name": "ipython",
    "version": 3
   },
   "file_extension": ".py",
   "mimetype": "text/x-python",
   "name": "python",
   "nbconvert_exporter": "python",
   "pygments_lexer": "ipython3",
   "version": "3.9.7"
  }
 },
 "nbformat": 4,
 "nbformat_minor": 5
}
