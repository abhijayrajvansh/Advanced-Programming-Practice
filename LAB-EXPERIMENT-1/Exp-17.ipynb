{
 "cells": [
  {
   "cell_type": "code",
   "execution_count": 20,
   "id": "b7bfe266",
   "metadata": {},
   "outputs": [
    {
     "name": "stdout",
     "output_type": "stream",
     "text": [
      "Enter a positive num: 123\n",
      "117\n",
      "108\n",
      "99\n",
      "81\n",
      "72\n",
      "63\n",
      "54\n",
      "45\n",
      "36\n",
      "27\n",
      "18\n",
      "9\n",
      "0\n"
     ]
    }
   ],
   "source": [
    "num = int(input(\"Enter a positive num: \"))\n",
    "\n",
    "def sumofdigit(num):\n",
    "    sum = 0\n",
    "    while num != 0:\n",
    "        ld = num % 10\n",
    "        sum += ld;\n",
    "        num //= 10;\n",
    "    \n",
    "    return sum\n",
    "\n",
    "while num > 0:\n",
    "    num -= sumofdigit(num)\n",
    "    print(num)"
   ]
  },
  {
   "cell_type": "code",
   "execution_count": null,
   "id": "78536cc8",
   "metadata": {},
   "outputs": [],
   "source": []
  },
  {
   "cell_type": "code",
   "execution_count": null,
   "id": "1a2dff0a",
   "metadata": {},
   "outputs": [],
   "source": []
  }
 ],
 "metadata": {
  "kernelspec": {
   "display_name": "Python 3 (ipykernel)",
   "language": "python",
   "name": "python3"
  },
  "language_info": {
   "codemirror_mode": {
    "name": "ipython",
    "version": 3
   },
   "file_extension": ".py",
   "mimetype": "text/x-python",
   "name": "python",
   "nbconvert_exporter": "python",
   "pygments_lexer": "ipython3",
   "version": "3.9.7"
  }
 },
 "nbformat": 4,
 "nbformat_minor": 5
}
