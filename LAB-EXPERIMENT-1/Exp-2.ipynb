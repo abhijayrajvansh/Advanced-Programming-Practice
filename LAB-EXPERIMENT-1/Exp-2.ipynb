{
 "cells": [
  {
   "cell_type": "code",
   "execution_count": 2,
   "id": "b4cd44fe",
   "metadata": {},
   "outputs": [
    {
     "name": "stdout",
     "output_type": "stream",
     "text": [
      "Enter your guess: 1\n",
      "Try Greater num...\n",
      "Enter your guess: 9\n",
      "Try Smaller num...\n",
      "Enter your guess: 4\n",
      "Try Smaller num...\n",
      "Enter your guess: 2\n",
      "Well guessed!\n"
     ]
    }
   ],
   "source": [
    "import random\n",
    "\n",
    "\n",
    "num = random.choice(range(1,10))\n",
    "# print(num)\n",
    "# global guess = 0\n",
    "\n",
    "while(True):\n",
    "    guess = int(input(\"Enter your guess: \"))\n",
    "    if guess == num:\n",
    "        print(\"Well guessed!\")\n",
    "        break\n",
    "    if guess > num:\n",
    "        print(\"Try Smaller num...\")\n",
    "    if guess < num:\n",
    "        print(\"Try Greater num...\")"
   ]
  },
  {
   "cell_type": "code",
   "execution_count": null,
   "id": "e9e14a36",
   "metadata": {},
   "outputs": [],
   "source": []
  }
 ],
 "metadata": {
  "kernelspec": {
   "display_name": "Python 3 (ipykernel)",
   "language": "python",
   "name": "python3"
  },
  "language_info": {
   "codemirror_mode": {
    "name": "ipython",
    "version": 3
   },
   "file_extension": ".py",
   "mimetype": "text/x-python",
   "name": "python",
   "nbconvert_exporter": "python",
   "pygments_lexer": "ipython3",
   "version": "3.9.7"
  }
 },
 "nbformat": 4,
 "nbformat_minor": 5
}
