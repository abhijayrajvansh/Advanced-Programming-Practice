{
 "cells": [
  {
   "cell_type": "code",
   "execution_count": 8,
   "id": "0091f56a",
   "metadata": {},
   "outputs": [
    {
     "name": "stdout",
     "output_type": "stream",
     "text": [
      "Enter number: 8709247743\n",
      "[1, 5, 6]\n"
     ]
    }
   ],
   "source": [
    "def absent_digits(n):\n",
    "    all_nums = set([0,1,2,3,4,5,6,7,8,9])\n",
    "    n = set([int(i) for i in n])\n",
    "    n = n.symmetric_difference(all_nums)\n",
    "    n = sorted(n)\n",
    "    \n",
    "    return n\n",
    "\n",
    "num = int(input(\"Enter number: \"))\n",
    "res = [int(x) for x in str(num)]\n",
    "\n",
    "print(absent_digits(res))"
   ]
  },
  {
   "cell_type": "code",
   "execution_count": null,
   "id": "ac7c282f",
   "metadata": {},
   "outputs": [],
   "source": []
  }
 ],
 "metadata": {
  "kernelspec": {
   "display_name": "Python 3 (ipykernel)",
   "language": "python",
   "name": "python3"
  },
  "language_info": {
   "codemirror_mode": {
    "name": "ipython",
    "version": 3
   },
   "file_extension": ".py",
   "mimetype": "text/x-python",
   "name": "python",
   "nbconvert_exporter": "python",
   "pygments_lexer": "ipython3",
   "version": "3.9.7"
  }
 },
 "nbformat": 4,
 "nbformat_minor": 5
}
