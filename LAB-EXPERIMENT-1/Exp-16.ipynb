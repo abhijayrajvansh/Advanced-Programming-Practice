{
 "cells": [
  {
   "cell_type": "code",
   "execution_count": 2,
   "id": "64c19363",
   "metadata": {},
   "outputs": [
    {
     "name": "stdout",
     "output_type": "stream",
     "text": [
      "A  ->  2\n",
      "B  ->  1\n",
      "H  ->  1\n",
      "I  ->  1\n",
      "J  ->  1\n",
      "Y  ->  1\n"
     ]
    }
   ],
   "source": [
    "import collections\n",
    "  \n",
    "def frequency(s):\n",
    "    return collections.Counter(s)  \n",
    "  \n",
    "if __name__ == \"__main__\":\n",
    "  \n",
    "    s = \"ABHIJAY\"\n",
    "    freq = frequency(s)\n",
    "  \n",
    "    for (key, value) in freq.items():\n",
    "        print (key, \" -> \", value)"
   ]
  },
  {
   "cell_type": "code",
   "execution_count": null,
   "id": "da8132b8",
   "metadata": {},
   "outputs": [],
   "source": []
  }
 ],
 "metadata": {
  "kernelspec": {
   "display_name": "Python 3 (ipykernel)",
   "language": "python",
   "name": "python3"
  },
  "language_info": {
   "codemirror_mode": {
    "name": "ipython",
    "version": 3
   },
   "file_extension": ".py",
   "mimetype": "text/x-python",
   "name": "python",
   "nbconvert_exporter": "python",
   "pygments_lexer": "ipython3",
   "version": "3.9.7"
  }
 },
 "nbformat": 4,
 "nbformat_minor": 5
}
