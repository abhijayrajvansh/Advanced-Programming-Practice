{
 "cells": [
  {
   "cell_type": "code",
   "execution_count": 1,
   "id": "8c098ddd",
   "metadata": {},
   "outputs": [
    {
     "name": "stdout",
     "output_type": "stream",
     "text": [
      "Enter the word: Kanpur\n",
      "Reversed String:  rupnaK\n"
     ]
    }
   ],
   "source": [
    "\n",
    "word = input(\"Enter the word: \")\n",
    "\n",
    "rev_str = \"\"\n",
    "\n",
    "for i in word:\n",
    "    rev_str = i + rev_str\n",
    "\n",
    "print(\"Reversed String: \", rev_str)"
   ]
  },
  {
   "cell_type": "code",
   "execution_count": null,
   "id": "949453a7",
   "metadata": {},
   "outputs": [],
   "source": []
  }
 ],
 "metadata": {
  "kernelspec": {
   "display_name": "Python 3 (ipykernel)",
   "language": "python",
   "name": "python3"
  },
  "language_info": {
   "codemirror_mode": {
    "name": "ipython",
    "version": 3
   },
   "file_extension": ".py",
   "mimetype": "text/x-python",
   "name": "python",
   "nbconvert_exporter": "python",
   "pygments_lexer": "ipython3",
   "version": "3.9.7"
  }
 },
 "nbformat": 4,
 "nbformat_minor": 5
}
