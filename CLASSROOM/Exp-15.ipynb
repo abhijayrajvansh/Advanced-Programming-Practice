{
 "cells": [
  {
   "cell_type": "code",
   "execution_count": null,
   "id": "ba53194a",
   "metadata": {},
   "outputs": [],
   "source": [
    "def checkDistinct(arr):\n",
    "    n = len(arr)\n",
    "    ans = True\n",
    "    \n",
    "    for i in range(n):\n",
    "        curr = arr[i]\n",
    "        for j in range(i + 1, n):\n",
    "            if arr[j] == curr:\n",
    "                ans = False\n",
    "                return ans\n",
    "    return ans\n",
    "\n",
    "arr = []\n",
    "\n",
    "n = int(input(\"Ente the number of elements: \"))\n",
    "\n",
    "for i in range(n):\n",
    "    ele = int(input())\n",
    "    arr.append(ele)\n",
    "\n",
    "if checkDistinct(arr) == True:\n",
    "    print(\"All elements are different from each other\")\n",
    "else:\n",
    "    print(\"Repetation found\")\n"
   ]
  },
  {
   "cell_type": "code",
   "execution_count": null,
   "id": "a5807632",
   "metadata": {},
   "outputs": [],
   "source": []
  },
  {
   "cell_type": "code",
   "execution_count": null,
   "id": "a69d0e22",
   "metadata": {},
   "outputs": [],
   "source": []
  },
  {
   "cell_type": "code",
   "execution_count": null,
   "id": "64b3b2a3",
   "metadata": {},
   "outputs": [],
   "source": []
  }
 ],
 "metadata": {
  "kernelspec": {
   "display_name": "Python 3 (ipykernel)",
   "language": "python",
   "name": "python3"
  },
  "language_info": {
   "codemirror_mode": {
    "name": "ipython",
    "version": 3
   },
   "file_extension": ".py",
   "mimetype": "text/x-python",
   "name": "python",
   "nbconvert_exporter": "python",
   "pygments_lexer": "ipython3",
   "version": "3.9.7"
  }
 },
 "nbformat": 4,
 "nbformat_minor": 5
}
