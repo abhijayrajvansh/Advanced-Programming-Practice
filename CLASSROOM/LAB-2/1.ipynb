{
 "cells": [
  {
   "cell_type": "code",
   "execution_count": 1,
   "id": "5b9832e3",
   "metadata": {},
   "outputs": [
    {
     "name": "stdout",
     "output_type": "stream",
     "text": [
      "Enter the string: abhijay\n",
      "yajihba\n"
     ]
    }
   ],
   "source": [
    "def mirror(string):\n",
    "    mir = string[::-1]\n",
    "    print(mir)\n",
    "\n",
    "data = input(\"Enter the string: \")\n",
    "mirror(data)"
   ]
  },
  {
   "cell_type": "code",
   "execution_count": null,
   "id": "1f7b03d7",
   "metadata": {},
   "outputs": [],
   "source": []
  }
 ],
 "metadata": {
  "kernelspec": {
   "display_name": "Python 3 (ipykernel)",
   "language": "python",
   "name": "python3"
  },
  "language_info": {
   "codemirror_mode": {
    "name": "ipython",
    "version": 3
   },
   "file_extension": ".py",
   "mimetype": "text/x-python",
   "name": "python",
   "nbconvert_exporter": "python",
   "pygments_lexer": "ipython3",
   "version": "3.9.7"
  }
 },
 "nbformat": 4,
 "nbformat_minor": 5
}
