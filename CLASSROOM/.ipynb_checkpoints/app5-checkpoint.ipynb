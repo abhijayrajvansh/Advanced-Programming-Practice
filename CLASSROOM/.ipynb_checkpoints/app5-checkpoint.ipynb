{
 "cells": [
  {
   "cell_type": "code",
   "execution_count": null,
   "id": "8c5dd651",
   "metadata": {},
   "outputs": [],
   "source": [
    "# Matrix\n",
    "\n",
    "n = int(input(\"Enter Rows no: \"))\n",
    "m = int(input(\"Enter Column no: \"))\n",
    "\n",
    "mat  = []\n",
    "\n",
    "for i in range(n):\n",
    "    for j in range(m):\n",
    "        print(int(i * j), end = \" \")\n",
    "    print()"
   ]
  }
 ],
 "metadata": {
  "kernelspec": {
   "display_name": "Python 3 (ipykernel)",
   "language": "python",
   "name": "python3"
  },
  "language_info": {
   "codemirror_mode": {
    "name": "ipython",
    "version": 3
   },
   "file_extension": ".py",
   "mimetype": "text/x-python",
   "name": "python",
   "nbconvert_exporter": "python",
   "pygments_lexer": "ipython3",
   "version": "3.9.7"
  }
 },
 "nbformat": 4,
 "nbformat_minor": 5
}
