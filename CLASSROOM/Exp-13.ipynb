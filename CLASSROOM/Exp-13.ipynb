{
 "cells": [
  {
   "cell_type": "code",
   "execution_count": 8,
   "id": "d1e9f673",
   "metadata": {},
   "outputs": [
    {
     "name": "stdout",
     "output_type": "stream",
     "text": [
      "Enter x1: 4\n",
      "Enter x2: 5\n",
      "Enter y1: 6\n",
      "Enter y2: 9\n",
      "Distance between two coordinates:  3.16\n"
     ]
    }
   ],
   "source": [
    "import math\n",
    "\n",
    "x1 = int(input(\"Enter x1: \"))\n",
    "x2 = int(input(\"Enter x2: \"))\n",
    "y1 = int(input(\"Enter y1: \"))\n",
    "y2 = int(input(\"Enter y2: \"))\n",
    "\n",
    "ans = math.sqrt(math.pow(x2 - x1, 2) + math.pow(y2 - y1, 2) * 1.0);\n",
    "\n",
    "print(\"Distance between two coordinates: \", round(ans, 2))"
   ]
  },
  {
   "cell_type": "markdown",
   "id": "5e20bd38",
   "metadata": {},
   "source": []
  },
  {
   "cell_type": "code",
   "execution_count": null,
   "id": "799c4ee3",
   "metadata": {},
   "outputs": [],
   "source": []
  }
 ],
 "metadata": {
  "kernelspec": {
   "display_name": "Python 3 (ipykernel)",
   "language": "python",
   "name": "python3"
  },
  "language_info": {
   "codemirror_mode": {
    "name": "ipython",
    "version": 3
   },
   "file_extension": ".py",
   "mimetype": "text/x-python",
   "name": "python",
   "nbconvert_exporter": "python",
   "pygments_lexer": "ipython3",
   "version": "3.9.7"
  }
 },
 "nbformat": 4,
 "nbformat_minor": 5
}
