{
 "cells": [
  {
   "cell_type": "code",
   "execution_count": 3,
   "id": "960d5a45",
   "metadata": {},
   "outputs": [
    {
     "name": "stdout",
     "output_type": "stream",
     "text": [
      "Enter Your Password: Srmist@2022\n",
      "Valid Password\n"
     ]
    }
   ],
   "source": [
    "password = input(\"Enter Your Password: \")\n",
    "password_length = len(password)\n",
    "\n",
    "num = False\n",
    "cap = False\n",
    "small = False\n",
    "special_char = False\n",
    "\n",
    "for i in password:\n",
    "    if i.isupper():\n",
    "        cap = True\n",
    "    if i.islower():\n",
    "        small = True\n",
    "    if i.isnumeric():\n",
    "        num = True\n",
    "    if i == '$' or i == '#' or i == '@':\n",
    "        special_char = True\n",
    "\n",
    "\n",
    "if num == True and cap == True and small == True and special_char == True and password_length >= 6 and password_length <= 16:\n",
    "    print(\"Valid Password\")\n",
    "else:\n",
    "    print(\"Not a Valid Password\")"
   ]
  },
  {
   "cell_type": "code",
   "execution_count": null,
   "id": "dcc3345d",
   "metadata": {},
   "outputs": [],
   "source": []
  },
  {
   "cell_type": "code",
   "execution_count": null,
   "id": "bf3efcd9",
   "metadata": {},
   "outputs": [],
   "source": []
  },
  {
   "cell_type": "code",
   "execution_count": null,
   "id": "4c985a12",
   "metadata": {},
   "outputs": [],
   "source": []
  }
 ],
 "metadata": {
  "kernelspec": {
   "display_name": "Python 3 (ipykernel)",
   "language": "python",
   "name": "python3"
  },
  "language_info": {
   "codemirror_mode": {
    "name": "ipython",
    "version": 3
   },
   "file_extension": ".py",
   "mimetype": "text/x-python",
   "name": "python",
   "nbconvert_exporter": "python",
   "pygments_lexer": "ipython3",
   "version": "3.9.7"
  }
 },
 "nbformat": 4,
 "nbformat_minor": 5
}
