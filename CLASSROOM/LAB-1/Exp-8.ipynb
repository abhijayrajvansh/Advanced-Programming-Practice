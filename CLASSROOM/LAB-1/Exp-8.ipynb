{
 "cells": [
  {
   "cell_type": "code",
   "execution_count": 2,
   "id": "26426841",
   "metadata": {},
   "outputs": [
    {
     "name": "stdout",
     "output_type": "stream",
     "text": [
      "200, 202, 204, 206, 208, 220, 222, 224, 226, 228, 240, 242, 244, 246, 248, 260, 262, 264, 266, 268, 280, 282, 284, 286, 288, 400, "
     ]
    }
   ],
   "source": [
    "def checkEvenDigitsOnly(i):\n",
    "    value = str(i)\n",
    "    ans = True\n",
    "\n",
    "    for num in value:\n",
    "        num = int(num)\n",
    "        if num % 2 != 0:\n",
    "            ans = False\n",
    "            return ans\n",
    "    return ans\n",
    "    \n",
    "\n",
    "for i in range(100, 401):\n",
    "    if checkEvenDigitsOnly(i) == True:\n",
    "        print(i, end = \", \")\n",
    "    "
   ]
  },
  {
   "cell_type": "code",
   "execution_count": null,
   "id": "985c2d61",
   "metadata": {},
   "outputs": [],
   "source": []
  }
 ],
 "metadata": {
  "kernelspec": {
   "display_name": "Python 3 (ipykernel)",
   "language": "python",
   "name": "python3"
  },
  "language_info": {
   "codemirror_mode": {
    "name": "ipython",
    "version": 3
   },
   "file_extension": ".py",
   "mimetype": "text/x-python",
   "name": "python",
   "nbconvert_exporter": "python",
   "pygments_lexer": "ipython3",
   "version": "3.9.7"
  }
 },
 "nbformat": 4,
 "nbformat_minor": 5
}
