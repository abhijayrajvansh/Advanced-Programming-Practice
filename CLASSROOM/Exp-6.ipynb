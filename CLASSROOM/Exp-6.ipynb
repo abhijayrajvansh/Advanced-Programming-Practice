{
 "cells": [
  {
   "cell_type": "code",
   "execution_count": 11,
   "id": "36911da3",
   "metadata": {},
   "outputs": [
    {
     "name": "stdout",
     "output_type": "stream",
     "text": [
      "Enter the string: SRMIST 2022\n",
      "Letters:  6\n",
      "Digits:  4\n"
     ]
    }
   ],
   "source": [
    "s = input(\"Enter the string: \")\n",
    "num = 0\n",
    "alpha = 0\n",
    "\n",
    "for i in s:\n",
    "    if i.isalpha():\n",
    "        alpha += 1\n",
    "    elif i.isnumeric():\n",
    "        num += 1\n",
    "\n",
    "print(\"Letters: \",(alpha))\n",
    "print(\"Digits: \" ,(num))"
   ]
  },
  {
   "cell_type": "code",
   "execution_count": null,
   "id": "d6e68678",
   "metadata": {},
   "outputs": [],
   "source": []
  }
 ],
 "metadata": {
  "kernelspec": {
   "display_name": "Python 3 (ipykernel)",
   "language": "python",
   "name": "python3"
  },
  "language_info": {
   "codemirror_mode": {
    "name": "ipython",
    "version": 3
   },
   "file_extension": ".py",
   "mimetype": "text/x-python",
   "name": "python",
   "nbconvert_exporter": "python",
   "pygments_lexer": "ipython3",
   "version": "3.9.7"
  }
 },
 "nbformat": 4,
 "nbformat_minor": 5
}
