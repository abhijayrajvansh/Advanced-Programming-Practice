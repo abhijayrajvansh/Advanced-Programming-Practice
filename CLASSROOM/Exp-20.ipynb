{
 "cells": [
  {
   "cell_type": "code",
   "execution_count": 3,
   "id": "66cc4ec8",
   "metadata": {},
   "outputs": [
    {
     "name": "stdout",
     "output_type": "stream",
     "text": [
      "Input third term of the series:3\n",
      "Input third last term:8\n",
      "Sum of the series:55\n",
      "Length of the series:  10\n",
      "\n",
      "Series:\n",
      "1 2 3 4 5 6 7 8 9 10 "
     ]
    }
   ],
   "source": [
    "tn = int(input(\"Input third term of the series:\"))\n",
    "tltn = int(input(\"Input third last term:\"))\n",
    "s_sum = int(input(\"Sum of the series:\"))\n",
    "\n",
    "n = int(2*s_sum/(tn+tltn))\n",
    "\n",
    "print(\"Length of the series: \",n)\n",
    "\n",
    "if n-5==0:\n",
    "    d = (s_sum-3*tn)//6\n",
    "else:\n",
    "    d = (tltn-tn)/(n-5)\n",
    "\n",
    "a = tn-2*d\n",
    "j = 0\n",
    "\n",
    "print(\"\\nSeries:\")\n",
    "\n",
    "for j in range(n-1):\n",
    "    print(int(a),end=\" \")\n",
    "    a+=d\n",
    "    \n",
    "print(int(a),end=\" \")"
   ]
  },
  {
   "cell_type": "code",
   "execution_count": null,
   "id": "c538bcf4",
   "metadata": {},
   "outputs": [],
   "source": []
  }
 ],
 "metadata": {
  "kernelspec": {
   "display_name": "Python 3 (ipykernel)",
   "language": "python",
   "name": "python3"
  },
  "language_info": {
   "codemirror_mode": {
    "name": "ipython",
    "version": 3
   },
   "file_extension": ".py",
   "mimetype": "text/x-python",
   "name": "python",
   "nbconvert_exporter": "python",
   "pygments_lexer": "ipython3",
   "version": "3.9.7"
  }
 },
 "nbformat": 4,
 "nbformat_minor": 5
}
