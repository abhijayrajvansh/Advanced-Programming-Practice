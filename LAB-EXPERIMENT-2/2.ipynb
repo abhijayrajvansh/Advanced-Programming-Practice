{
 "cells": [
  {
   "cell_type": "code",
   "execution_count": 2,
   "id": "cfe0f2ff",
   "metadata": {},
   "outputs": [
    {
     "name": "stdout",
     "output_type": "stream",
     "text": [
      "Enter string 1: srmist\n",
      "Enter string 2: tsrmis\n",
      "False\n"
     ]
    }
   ],
   "source": [
    "\n",
    "test_str1 = 'geeks'\n",
    "test_str2 = 'eksge'\n",
    "\n",
    "# printing original strings\n",
    "print(\"The original string 1 is : \" + str(test_str1))\n",
    "print(\"The original string 2 is : \" + str(test_str2))\n",
    "\n",
    "# Check if two strings are Rotationally Equivalent\n",
    "# Using loop + string slicing\n",
    "res = False\n",
    "for idx in range(len(test_str1)):\n",
    "\t\tif test_str1[idx: ] + test_str1[ :idx] == test_str2:\n",
    "\t\t\tres = True\n",
    "\t\t\tbreak\n",
    "\n",
    "# printing result\n",
    "print(\"Are two strings Rotationally equal ? : \" + str(res))\n"
   ]
  },
  {
   "cell_type": "code",
   "execution_count": null,
   "id": "603491ca",
   "metadata": {},
   "outputs": [],
   "source": []
  }
 ],
 "metadata": {
  "kernelspec": {
   "display_name": "Python 3 (ipykernel)",
   "language": "python",
   "name": "python3"
  },
  "language_info": {
   "codemirror_mode": {
    "name": "ipython",
    "version": 3
   },
   "file_extension": ".py",
   "mimetype": "text/x-python",
   "name": "python",
   "nbconvert_exporter": "python",
   "pygments_lexer": "ipython3",
   "version": "3.9.7"
  }
 },
 "nbformat": 4,
 "nbformat_minor": 5
}
