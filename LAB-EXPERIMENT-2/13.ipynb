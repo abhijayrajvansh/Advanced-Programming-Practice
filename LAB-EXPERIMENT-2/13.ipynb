{
 "cells": [
  {
   "cell_type": "code",
   "execution_count": 15,
   "id": "86d2fc82",
   "metadata": {},
   "outputs": [
    {
     "name": "stdout",
     "output_type": "stream",
     "text": [
      "Enter the number: 17\n",
      "Number is Prime\n"
     ]
    }
   ],
   "source": [
    "def isPrime(num):\n",
    "    if num == 1 or num == 2:\n",
    "        return True\n",
    "    \n",
    "    for i in range(2, num):\n",
    "#         print(i)\n",
    "        if num % i == 0:\n",
    "            return False\n",
    "    return True\n",
    "\n",
    "a = int(input(\"Enter the number: \"))\n",
    "\n",
    "if isPrime(a) == True:\n",
    "    print(\"Number is Prime\")\n",
    "else:\n",
    "    print(\"Number isn't Prime\")\n",
    "        "
   ]
  },
  {
   "cell_type": "code",
   "execution_count": null,
   "id": "d1fe2c32",
   "metadata": {},
   "outputs": [],
   "source": []
  }
 ],
 "metadata": {
  "kernelspec": {
   "display_name": "Python 3 (ipykernel)",
   "language": "python",
   "name": "python3"
  },
  "language_info": {
   "codemirror_mode": {
    "name": "ipython",
    "version": 3
   },
   "file_extension": ".py",
   "mimetype": "text/x-python",
   "name": "python",
   "nbconvert_exporter": "python",
   "pygments_lexer": "ipython3",
   "version": "3.9.7"
  }
 },
 "nbformat": 4,
 "nbformat_minor": 5
}
