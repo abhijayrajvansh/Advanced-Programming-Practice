{
 "cells": [
  {
   "cell_type": "code",
   "execution_count": 18,
   "id": "d182bd9f",
   "metadata": {},
   "outputs": [
    {
     "name": "stdout",
     "output_type": "stream",
     "text": [
      "Enter the length:   5\n",
      "Binary String   :  00110\n"
     ]
    }
   ],
   "source": [
    "import random\n",
    "\n",
    "n = int(input(\"Enter the length:   \"))\n",
    "\n",
    "list1 = [0, 1]\n",
    "s = \" \"\n",
    "\n",
    "for i in range(n):\n",
    "    choice = (random.choice(list1))\n",
    "    s = s + str(choice)\n",
    "#     print(choice)\n",
    "\n",
    "print(\"Binary String   :\", s)\n"
   ]
  },
  {
   "cell_type": "code",
   "execution_count": null,
   "id": "d26df5ad",
   "metadata": {},
   "outputs": [],
   "source": []
  }
 ],
 "metadata": {
  "kernelspec": {
   "display_name": "Python 3 (ipykernel)",
   "language": "python",
   "name": "python3"
  },
  "language_info": {
   "codemirror_mode": {
    "name": "ipython",
    "version": 3
   },
   "file_extension": ".py",
   "mimetype": "text/x-python",
   "name": "python",
   "nbconvert_exporter": "python",
   "pygments_lexer": "ipython3",
   "version": "3.9.7"
  }
 },
 "nbformat": 4,
 "nbformat_minor": 5
}
