{
 "cells": [
  {
   "cell_type": "code",
   "execution_count": null,
   "id": "ad132f2d",
   "metadata": {},
   "outputs": [],
   "source": [
    "import math\n",
    "\n",
    "t1 = (11, 2, 3, 14)\n",
    "t2 = (13, 5, 22, 10)\n",
    "t3 = (12, 2, 3, 10)\n",
    "\n"
   ]
  }
 ],
 "metadata": {
  "kernelspec": {
   "display_name": "Python 3 (ipykernel)",
   "language": "python",
   "name": "python3"
  },
  "language_info": {
   "codemirror_mode": {
    "name": "ipython",
    "version": 3
   },
   "file_extension": ".py",
   "mimetype": "text/x-python",
   "name": "python",
   "nbconvert_exporter": "python",
   "pygments_lexer": "ipython3",
   "version": "3.9.7"
  }
 },
 "nbformat": 4,
 "nbformat_minor": 5
}
