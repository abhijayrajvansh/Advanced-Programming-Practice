{
 "cells": [
  {
   "cell_type": "code",
   "execution_count": 1,
   "id": "ba9ebbbf",
   "metadata": {},
   "outputs": [
    {
     "name": "stdout",
     "output_type": "stream",
     "text": [
      "[(5, 17, 1, 16, 0, 10), (6, 8, 3, 17, 4, 11)]\n"
     ]
    }
   ],
   "source": [
    "l1 = [[(5, 6), (17, 8)], [(1, 3), (16, 17)], [(0, 4), (10, 11)]]\n",
    "\n",
    "t = [i for sub in l1 for i in sub]\n",
    "\n",
    "result = list(zip(*t))\n",
    "\n",
    "print(result)"
   ]
  },
  {
   "cell_type": "code",
   "execution_count": null,
   "id": "61d419da",
   "metadata": {},
   "outputs": [],
   "source": []
  }
 ],
 "metadata": {
  "kernelspec": {
   "display_name": "Python 3 (ipykernel)",
   "language": "python",
   "name": "python3"
  },
  "language_info": {
   "codemirror_mode": {
    "name": "ipython",
    "version": 3
   },
   "file_extension": ".py",
   "mimetype": "text/x-python",
   "name": "python",
   "nbconvert_exporter": "python",
   "pygments_lexer": "ipython3",
   "version": "3.9.7"
  }
 },
 "nbformat": 4,
 "nbformat_minor": 5
}
