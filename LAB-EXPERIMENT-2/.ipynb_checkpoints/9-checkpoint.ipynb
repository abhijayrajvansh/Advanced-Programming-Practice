{
 "cells": [
  {
   "cell_type": "code",
   "execution_count": 16,
   "id": "f473765e",
   "metadata": {},
   "outputs": [
    {
     "name": "stdout",
     "output_type": "stream",
     "text": [
      "Total number of unique elements:  8\n"
     ]
    }
   ],
   "source": [
    "import numpy as np\n",
    " \n",
    "def unique(list1):\n",
    "    x = np.array(list1)\n",
    "    print(np.unique(x))\n",
    "\n",
    "arr = [12, 14, 15, 15, 15, 16, 16, 19, 21, 22, 30]\n",
    "count = 0\n",
    "n = len(l1)\n",
    "\n",
    "final = np.unique(arr)\n",
    "n = len(final)\n",
    "print(\"Total number of unique elements are: \", str(n))\n",
    "    "
   ]
  },
  {
   "cell_type": "code",
   "execution_count": null,
   "id": "af55a9f7",
   "metadata": {},
   "outputs": [],
   "source": []
  }
 ],
 "metadata": {
  "kernelspec": {
   "display_name": "Python 3 (ipykernel)",
   "language": "python",
   "name": "python3"
  },
  "language_info": {
   "codemirror_mode": {
    "name": "ipython",
    "version": 3
   },
   "file_extension": ".py",
   "mimetype": "text/x-python",
   "name": "python",
   "nbconvert_exporter": "python",
   "pygments_lexer": "ipython3",
   "version": "3.9.7"
  }
 },
 "nbformat": 4,
 "nbformat_minor": 5
}
