{
 "cells": [
  {
   "cell_type": "code",
   "execution_count": 3,
   "id": "ae280c06",
   "metadata": {},
   "outputs": [
    {
     "name": "stdout",
     "output_type": "stream",
     "text": [
      "Enter element A: 2\n",
      "Enter element B: 3\n",
      "Enter element C: 7\n",
      "Following are the all possible permutations:-\n",
      "2 3 7\n",
      "2 7 3\n",
      "3 2 7\n",
      "3 7 2\n",
      "7 2 3\n",
      "7 3 2\n"
     ]
    }
   ],
   "source": [
    "def ncr(L):\n",
    "    \n",
    "    for i in range(3):\n",
    "        for j in range(3):\n",
    "            for k in range(3):\n",
    "                if (i!=j and j!=k and i!=k):\n",
    "                    print(L[i], L[j], L[k])\n",
    "                \n",
    "\n",
    "a = int(input(\"Enter element A: \"))\n",
    "b = int(input(\"Enter element B: \"))\n",
    "c = int(input(\"Enter element C: \"))\n",
    "\n",
    "print(\"Following are the all possible permutations:-\")\n",
    "ncr([a, b, c])\n"
   ]
  },
  {
   "cell_type": "code",
   "execution_count": null,
   "id": "2cfba2fa",
   "metadata": {},
   "outputs": [],
   "source": []
  }
 ],
 "metadata": {
  "kernelspec": {
   "display_name": "Python 3 (ipykernel)",
   "language": "python",
   "name": "python3"
  },
  "language_info": {
   "codemirror_mode": {
    "name": "ipython",
    "version": 3
   },
   "file_extension": ".py",
   "mimetype": "text/x-python",
   "name": "python",
   "nbconvert_exporter": "python",
   "pygments_lexer": "ipython3",
   "version": "3.9.7"
  }
 },
 "nbformat": 4,
 "nbformat_minor": 5
}
