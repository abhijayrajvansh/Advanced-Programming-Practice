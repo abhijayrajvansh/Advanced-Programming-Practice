{
 "cells": [
  {
   "cell_type": "code",
   "execution_count": 13,
   "id": "f99465c8",
   "metadata": {},
   "outputs": [
    {
     "name": "stdout",
     "output_type": "stream",
     "text": [
      "Enter the string: abccba\n",
      "String is Palindrome\n"
     ]
    }
   ],
   "source": [
    "def isPalindrome(s):\n",
    "    n = len(s)\n",
    "    i = 0\n",
    "    j = n - 1\n",
    "    \n",
    "    while i < j :\n",
    "        if s[i] != s[j]:\n",
    "            return False\n",
    "        i += 1\n",
    "        j -= 1\n",
    "    return True\n",
    "\n",
    "        \n",
    "s = input(\"Enter the string: \")\n",
    "\n",
    "value = isPalindrome(s)\n",
    "if value is True:\n",
    "    print(\"String is Palindrome\")\n",
    "else:\n",
    "    print(\"String is not a Palindrome\")\n",
    "        \n",
    "        "
   ]
  },
  {
   "cell_type": "code",
   "execution_count": null,
   "id": "222a4be5",
   "metadata": {},
   "outputs": [],
   "source": []
  }
 ],
 "metadata": {
  "kernelspec": {
   "display_name": "Python 3 (ipykernel)",
   "language": "python",
   "name": "python3"
  },
  "language_info": {
   "codemirror_mode": {
    "name": "ipython",
    "version": 3
   },
   "file_extension": ".py",
   "mimetype": "text/x-python",
   "name": "python",
   "nbconvert_exporter": "python",
   "pygments_lexer": "ipython3",
   "version": "3.9.7"
  }
 },
 "nbformat": 4,
 "nbformat_minor": 5
}
