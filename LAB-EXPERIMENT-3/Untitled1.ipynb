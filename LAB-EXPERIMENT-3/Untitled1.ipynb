{
 "cells": [
  {
   "cell_type": "code",
   "execution_count": 1,
   "id": "ae3502e0",
   "metadata": {},
   "outputs": [
    {
     "name": "stdout",
     "output_type": "stream",
     "text": [
      "Enter the first side of the triangle : 3\n",
      "Enter the second side of the triangle : 4\n",
      "Enter the third side of the triangle : 5\n",
      "The perimeter of the triangle is : 12.00\n",
      "The area of the triangle is : 6.00\n"
     ]
    }
   ],
   "source": [
    "class Triangle:\n",
    "    def findPerimeter(self, s1, s2, s3):\n",
    "        return (s1 + s2 + s3)\n",
    "\n",
    "    def findArea(self, s1, s2, s3):\n",
    "        p = (s1 + s2 + s3)\n",
    "        s = p/2\n",
    "        return (s * (s-s1) * (s-s2)*(s-s3))**0.5\n",
    "\n",
    "s1 = float(input(\"Enter the first side of the triangle : \"))\n",
    "s2 = float(input(\"Enter the second side of the triangle : \"))\n",
    "s3 = float(input(\"Enter the third side of the triangle : \"))\n",
    "\n",
    "u = Triangle()\n",
    "\n",
    "print(\"The perimeter of the triangle is : {0:.2f}\".format(\n",
    "    u.findPerimeter(s1, s2, s3)))\n",
    "print(\"The area of the triangle is : {0:.2f}\".format(u.findArea(s1, s2, s3)))\n",
    "\n"
   ]
  },
  {
   "cell_type": "code",
   "execution_count": null,
   "id": "d2696740",
   "metadata": {},
   "outputs": [],
   "source": []
  }
 ],
 "metadata": {
  "kernelspec": {
   "display_name": "Python 3 (ipykernel)",
   "language": "python",
   "name": "python3"
  },
  "language_info": {
   "codemirror_mode": {
    "name": "ipython",
    "version": 3
   },
   "file_extension": ".py",
   "mimetype": "text/x-python",
   "name": "python",
   "nbconvert_exporter": "python",
   "pygments_lexer": "ipython3",
   "version": "3.9.7"
  }
 },
 "nbformat": 4,
 "nbformat_minor": 5
}
