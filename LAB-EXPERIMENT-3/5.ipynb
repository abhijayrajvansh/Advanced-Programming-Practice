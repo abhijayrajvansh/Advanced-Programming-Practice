{
 "cells": [
  {
   "cell_type": "code",
   "execution_count": 3,
   "id": "e0b7c5a8",
   "metadata": {},
   "outputs": [
    {
     "name": "stdout",
     "output_type": "stream",
     "text": [
      "[1, 2, 3]\n",
      "('a', [8, 4, 6], 'Grandmaster')\n",
      "abhijayrajvansh\n"
     ]
    }
   ],
   "source": [
    "class PrintDT:\n",
    "    def py_data(self,list):\n",
    "        self.list=[]\n",
    "        print(self.list)\n",
    "        \n",
    "    def py_data(self,tuple):\n",
    "        self.tuple=()\n",
    "        print(tuple)\n",
    "        \n",
    "    def py_data(self,str):\n",
    "        self.str=''\n",
    "        print(str)\n",
    "        \n",
    "p=PrintDT()\n",
    "\n",
    "p.py_data([1,2,3])\n",
    "p.py_data(('a',[8,4,6],\"Grandmaster\"))\n",
    "p.py_data('abhijayrajvansh')\n"
   ]
  },
  {
   "cell_type": "code",
   "execution_count": null,
   "id": "4d6dc489",
   "metadata": {},
   "outputs": [],
   "source": []
  }
 ],
 "metadata": {
  "kernelspec": {
   "display_name": "Python 3 (ipykernel)",
   "language": "python",
   "name": "python3"
  },
  "language_info": {
   "codemirror_mode": {
    "name": "ipython",
    "version": 3
   },
   "file_extension": ".py",
   "mimetype": "text/x-python",
   "name": "python",
   "nbconvert_exporter": "python",
   "pygments_lexer": "ipython3",
   "version": "3.9.7"
  }
 },
 "nbformat": 4,
 "nbformat_minor": 5
}
