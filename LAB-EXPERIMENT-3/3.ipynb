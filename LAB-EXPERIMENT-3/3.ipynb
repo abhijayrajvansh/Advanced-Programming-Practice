{
 "cells": [
  {
   "cell_type": "code",
   "execution_count": 1,
   "id": "55f429f1",
   "metadata": {},
   "outputs": [
    {
     "name": "stdout",
     "output_type": "stream",
     "text": [
      "SCO\n",
      "CSE\n"
     ]
    }
   ],
   "source": [
    "class Dept:\n",
    "    def __init__(self, *args): \n",
    "        if len(args) == 1: \n",
    "            self.dept=args[0] \n",
    "\n",
    "        elif len(args) == 0: \n",
    "            self.dept=\"SCO\" \n",
    "    \n",
    "    def deptname(self):\n",
    "        print(self.dept)\n",
    "    \n",
    "\n",
    "d1=Dept()\n",
    "d1.deptname()\n",
    "\n",
    "d2=Dept(\"CSE\")\n",
    "d2.deptname()\n"
   ]
  },
  {
   "cell_type": "code",
   "execution_count": null,
   "id": "f20aaa80",
   "metadata": {},
   "outputs": [],
   "source": []
  }
 ],
 "metadata": {
  "kernelspec": {
   "display_name": "Python 3 (ipykernel)",
   "language": "python",
   "name": "python3"
  },
  "language_info": {
   "codemirror_mode": {
    "name": "ipython",
    "version": 3
   },
   "file_extension": ".py",
   "mimetype": "text/x-python",
   "name": "python",
   "nbconvert_exporter": "python",
   "pygments_lexer": "ipython3",
   "version": "3.9.7"
  }
 },
 "nbformat": 4,
 "nbformat_minor": 5
}
