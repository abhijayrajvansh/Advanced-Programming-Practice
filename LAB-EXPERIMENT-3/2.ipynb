{
 "cells": [
  {
   "cell_type": "code",
   "execution_count": 1,
   "id": "92fec246",
   "metadata": {},
   "outputs": [
    {
     "name": "stdout",
     "output_type": "stream",
     "text": [
      "True\n",
      "False\n",
      "False\n",
      "False\n",
      "True\n",
      "False\n",
      "False\n",
      "False\n",
      "\n",
      "Check whether the said classes are subclasses of the built-in object class or not.\n",
      "True\n",
      "True\n",
      "True\n",
      "True\n"
     ]
    }
   ],
   "source": [
    "class CTECH:\n",
    "    pass \n",
    "class CINTEL:\n",
    "    pass \n",
    "class NWC:\n",
    "    pass \n",
    "\n",
    "class DSBS:\n",
    "    pass \n",
    "\n",
    "student1 = CTECH()\n",
    "marks1 = CINTEL()\n",
    "stu=NWC()\n",
    "ma=DSBS()\n",
    "\n",
    "print(isinstance(student1, CTECH))\n",
    "print(isinstance(marks1, CTECH))\n",
    "print(isinstance(stu, CTECH))\n",
    "print(isinstance(ma, CTECH))\n",
    "\n",
    "print(isinstance(marks1, CINTEL)) \n",
    "print(isinstance(student1, CINTEL))\n",
    "print(isinstance(stu, CINTEL))\n",
    "print(isinstance(ma, CINTEL))\n",
    "\n",
    "print(\"\\nCheck whether the said classes are subclasses of the built-in object class or not.\")\n",
    "print(issubclass(CTECH, object))\n",
    "print(issubclass(CINTEL, object))\n",
    "print(issubclass(NWC, object))\n",
    "print(issubclass(DSBS, object))\n",
    "\n"
   ]
  },
  {
   "cell_type": "code",
   "execution_count": null,
   "id": "4cb72cbf",
   "metadata": {},
   "outputs": [],
   "source": []
  }
 ],
 "metadata": {
  "kernelspec": {
   "display_name": "Python 3 (ipykernel)",
   "language": "python",
   "name": "python3"
  },
  "language_info": {
   "codemirror_mode": {
    "name": "ipython",
    "version": 3
   },
   "file_extension": ".py",
   "mimetype": "text/x-python",
   "name": "python",
   "nbconvert_exporter": "python",
   "pygments_lexer": "ipython3",
   "version": "3.9.7"
  }
 },
 "nbformat": 4,
 "nbformat_minor": 5
}
