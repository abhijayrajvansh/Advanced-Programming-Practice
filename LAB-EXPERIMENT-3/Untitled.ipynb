{
 "cells": [
  {
   "cell_type": "code",
   "execution_count": 1,
   "id": "4ceed6ad",
   "metadata": {},
   "outputs": [
    {
     "name": "stdout",
     "output_type": "stream",
     "text": [
      "15000\n",
      "30000\n",
      "40000\n"
     ]
    }
   ],
   "source": [
    "class Banks_SRMIST:\n",
    "    def getBalance():\n",
    "        return 0\n",
    "class CUB(Banks_SRMIST):\n",
    "    \n",
    "    def getBalance(balance):\n",
    "         return balance\n",
    "class HDFC(Banks_SRMIST):\n",
    "    \n",
    "    def getBalance(balance):\n",
    "        return balance\n",
    "class Indian_Bank(Banks_SRMIST):\n",
    "    \n",
    "    def getBalance(balance):\n",
    "        return balance\n",
    "Banks_SRMIST()\n",
    "print(CUB.getBalance(15000))\n",
    "print(HDFC.getBalance(30000))\n",
    "print(Indian_Bank.getBalance(40000))\n"
   ]
  },
  {
   "cell_type": "code",
   "execution_count": null,
   "id": "903af60a",
   "metadata": {},
   "outputs": [],
   "source": []
  }
 ],
 "metadata": {
  "kernelspec": {
   "display_name": "Python 3 (ipykernel)",
   "language": "python",
   "name": "python3"
  },
  "language_info": {
   "codemirror_mode": {
    "name": "ipython",
    "version": 3
   },
   "file_extension": ".py",
   "mimetype": "text/x-python",
   "name": "python",
   "nbconvert_exporter": "python",
   "pygments_lexer": "ipython3",
   "version": "3.9.7"
  }
 },
 "nbformat": 4,
 "nbformat_minor": 5
}
