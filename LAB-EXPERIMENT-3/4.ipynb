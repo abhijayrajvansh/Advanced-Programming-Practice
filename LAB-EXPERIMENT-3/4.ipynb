{
 "cells": [
  {
   "cell_type": "code",
   "execution_count": 13,
   "id": "458a5060",
   "metadata": {},
   "outputs": [
    {
     "name": "stdout",
     "output_type": "stream",
     "text": [
      "Area =  30\n",
      "Perimeter =  22\n"
     ]
    }
   ],
   "source": [
    "def areaRectangle(a, b):\n",
    "\treturn (a * b)\n",
    "\n",
    "def perimeterRectangle(a, b):\n",
    "\treturn (2 * (a + b))\n",
    "a = 5;\n",
    "b = 6;\n",
    "print (\"Area = \", areaRectangle(a, b))\n",
    "print (\"Perimeter = \", perimeterRectangle(a, b))\n"
   ]
  },
  {
   "cell_type": "code",
   "execution_count": null,
   "id": "39684e02",
   "metadata": {},
   "outputs": [],
   "source": []
  }
 ],
 "metadata": {
  "kernelspec": {
   "display_name": "Python 3 (ipykernel)",
   "language": "python",
   "name": "python3"
  },
  "language_info": {
   "codemirror_mode": {
    "name": "ipython",
    "version": 3
   },
   "file_extension": ".py",
   "mimetype": "text/x-python",
   "name": "python",
   "nbconvert_exporter": "python",
   "pygments_lexer": "ipython3",
   "version": "3.9.7"
  }
 },
 "nbformat": 4,
 "nbformat_minor": 5
}
