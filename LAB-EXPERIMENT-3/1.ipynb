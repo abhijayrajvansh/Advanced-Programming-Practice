{
 "cells": [
  {
   "cell_type": "code",
   "execution_count": 1,
   "id": "3286b665",
   "metadata": {},
   "outputs": [
    {
     "name": "stdout",
     "output_type": "stream",
     "text": [
      "Original attributes and their values of the Student class:\n",
      "school -> SRMIST\n",
      "dept1 -> Computer Science\n",
      "dept2 -> Artificial Intelligence\n",
      "dept3 -> Mechanical Engineering\n",
      "dept4 -> Biotech\n",
      "\n",
      "After adding the specialization, attributes and their values with the said class:\n",
      "school -> SRMIST\n",
      "dept1 -> Computer Science\n",
      "dept2 -> Artificial Intelligence\n",
      "dept3 -> Mechanical Engineering\n",
      "dept4 -> Biotech\n",
      "specialization -> Blockchain\n",
      "\n",
      "After removing the dept1,dept2 attributes and their values from the said class:\n",
      "school -> SRMIST\n",
      "dept3 -> Mechanical Engineering\n",
      "dept4 -> Biotech\n",
      "specialization -> Blockchain\n"
     ]
    }
   ],
   "source": [
    "class SRMIST:\n",
    "    school = 'SRMIST'\n",
    "    dept1 = 'Computer Science'\n",
    "    dept2 = 'Artificial Intelligence'\n",
    "    dept3 = 'Mechanical Engineering'\n",
    "    dept4 = 'Biotech'\n",
    "print(\"Original attributes and their values of the Student class:\")\n",
    "for attr, value in SRMIST.__dict__.items():\n",
    "    if not attr.startswith('_'):\n",
    "        print(f'{attr} -> {value}')\n",
    "print(\"\\nAfter adding the specialization, attributes and their values with the said class:\")\n",
    "SRMIST.specialization  = 'Blockchain'\n",
    "for attr, value in SRMIST.__dict__.items():\n",
    "    if not attr.startswith('_'):\n",
    "        print(f'{attr} -> {value}')\n",
    "print(\"\\nAfter removing the dept1,dept2 attributes and their values from the said class:\")\n",
    "del SRMIST.dept1\n",
    "del SRMIST.dept2\n",
    "#delattr(Student, 'student_name')\n",
    "for attr, value in SRMIST.__dict__.items():\n",
    "    if not attr.startswith('_'):\n",
    "        print(f'{attr} -> {value}')\n"
   ]
  },
  {
   "cell_type": "code",
   "execution_count": null,
   "id": "2f3d0641",
   "metadata": {},
   "outputs": [],
   "source": []
  }
 ],
 "metadata": {
  "kernelspec": {
   "display_name": "Python 3 (ipykernel)",
   "language": "python",
   "name": "python3"
  },
  "language_info": {
   "codemirror_mode": {
    "name": "ipython",
    "version": 3
   },
   "file_extension": ".py",
   "mimetype": "text/x-python",
   "name": "python",
   "nbconvert_exporter": "python",
   "pygments_lexer": "ipython3",
   "version": "3.9.7"
  }
 },
 "nbformat": 4,
 "nbformat_minor": 5
}
